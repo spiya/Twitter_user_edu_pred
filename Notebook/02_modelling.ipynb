{
 "cells": [
  {
   "cell_type": "markdown",
   "metadata": {},
   "source": [
    "# Modelling"
   ]
  },
  {
   "cell_type": "code",
   "execution_count": 1,
   "metadata": {},
   "outputs": [],
   "source": [
    "#import necessary packages\n",
    "from sklearn.feature_extraction.text import CountVectorizer\n",
    "import numpy as np\n",
    "import pandas as pd\n",
    "import scipy as sp\n",
    "\n",
    "# Import scikit-learn tools, vectorizers, transformer, and classifiers\n",
    "from sklearn.model_selection import train_test_split\n",
    "from sklearn import metrics\n",
    "from sklearn.metrics import roc_curve\n",
    "from sklearn.metrics import precision_recall_curve\n",
    "from sklearn.metrics import balanced_accuracy_score\n",
    "from sklearn.metrics import accuracy_score\n",
    "from sklearn.metrics import classification_report\n",
    "from sklearn.pipeline import Pipeline\n",
    "from sklearn.compose import ColumnTransformer\n",
    "from sklearn.preprocessing import MinMaxScaler\n",
    "\n",
    "\n",
    "# import CountVectorizer and TfidfVectorizer\n",
    "from sklearn.feature_extraction.text import CountVectorizer\n",
    "from sklearn.feature_extraction.text import TfidfVectorizer\n",
    "\n",
    "# import Multinomial Naive Bayes classifier\n",
    "from sklearn.naive_bayes import MultinomialNB\n",
    "\n",
    "# import Random Forest Classifier\n",
    "from sklearn.ensemble import RandomForestClassifier\n",
    "\n",
    "# import Logistic Regression\n",
    "from sklearn.linear_model import LogisticRegression\n",
    "\n",
    "# import support vector classifier\n",
    "from sklearn.svm import LinearSVC\n",
    "\n",
    "from sklearn.model_selection import GridSearchCV\n",
    "import pickle\n",
    "\n",
    "#to ensure clean outputs ignore the warning messages \n",
    "import warnings\n",
    "warnings.filterwarnings('ignore')\n"
   ]
  },
  {
   "cell_type": "code",
   "execution_count": 2,
   "metadata": {},
   "outputs": [
    {
     "data": {
      "text/html": [
       "<div>\n",
       "<style scoped>\n",
       "    .dataframe tbody tr th:only-of-type {\n",
       "        vertical-align: middle;\n",
       "    }\n",
       "\n",
       "    .dataframe tbody tr th {\n",
       "        vertical-align: top;\n",
       "    }\n",
       "\n",
       "    .dataframe thead th {\n",
       "        text-align: right;\n",
       "    }\n",
       "</style>\n",
       "<table border=\"1\" class=\"dataframe\">\n",
       "  <thead>\n",
       "    <tr style=\"text-align: right;\">\n",
       "      <th></th>\n",
       "      <th>user</th>\n",
       "      <th>lang</th>\n",
       "      <th>favorite_count</th>\n",
       "      <th>retweet_count</th>\n",
       "      <th>Screen_name</th>\n",
       "      <th>Followers</th>\n",
       "      <th>Friends</th>\n",
       "      <th>Tweets</th>\n",
       "      <th>education</th>\n",
       "      <th>char_len</th>\n",
       "      <th>words_per_tweet</th>\n",
       "      <th>word_len</th>\n",
       "      <th>tweet_normalized</th>\n",
       "      <th>edu_class</th>\n",
       "    </tr>\n",
       "  </thead>\n",
       "  <tbody>\n",
       "    <tr>\n",
       "      <th>0</th>\n",
       "      <td>krychtiukmd</td>\n",
       "      <td>en</td>\n",
       "      <td>0.0</td>\n",
       "      <td>5.0</td>\n",
       "      <td>krychtiukmd</td>\n",
       "      <td>5738.0</td>\n",
       "      <td>4059.0</td>\n",
       "      <td>4003.0</td>\n",
       "      <td>phd</td>\n",
       "      <td>139</td>\n",
       "      <td>14</td>\n",
       "      <td>9.000000</td>\n",
       "      <td>rt excellent result mitral valveinvalve procedure</td>\n",
       "      <td>3</td>\n",
       "    </tr>\n",
       "    <tr>\n",
       "      <th>1</th>\n",
       "      <td>krychtiukmd</td>\n",
       "      <td>en</td>\n",
       "      <td>8.0</td>\n",
       "      <td>2.0</td>\n",
       "      <td>krychtiukmd</td>\n",
       "      <td>5738.0</td>\n",
       "      <td>4059.0</td>\n",
       "      <td>4003.0</td>\n",
       "      <td>phd</td>\n",
       "      <td>139</td>\n",
       "      <td>21</td>\n",
       "      <td>5.523810</td>\n",
       "      <td>ecpr denmark check article #criticalcare alway...</td>\n",
       "      <td>3</td>\n",
       "    </tr>\n",
       "    <tr>\n",
       "      <th>2</th>\n",
       "      <td>krychtiukmd</td>\n",
       "      <td>en</td>\n",
       "      <td>78.0</td>\n",
       "      <td>18.0</td>\n",
       "      <td>krychtiukmd</td>\n",
       "      <td>5738.0</td>\n",
       "      <td>4059.0</td>\n",
       "      <td>4003.0</td>\n",
       "      <td>phd</td>\n",
       "      <td>126</td>\n",
       "      <td>13</td>\n",
       "      <td>8.538462</td>\n",
       "      <td>framingham heart study fantastic overview week...</td>\n",
       "      <td>3</td>\n",
       "    </tr>\n",
       "    <tr>\n",
       "      <th>3</th>\n",
       "      <td>krychtiukmd</td>\n",
       "      <td>en</td>\n",
       "      <td>0.0</td>\n",
       "      <td>11.0</td>\n",
       "      <td>krychtiukmd</td>\n",
       "      <td>5738.0</td>\n",
       "      <td>4059.0</td>\n",
       "      <td>4003.0</td>\n",
       "      <td>phd</td>\n",
       "      <td>140</td>\n",
       "      <td>20</td>\n",
       "      <td>6.000000</td>\n",
       "      <td>rt week #acutecvdays focus postresuscitation c...</td>\n",
       "      <td>3</td>\n",
       "    </tr>\n",
       "    <tr>\n",
       "      <th>4</th>\n",
       "      <td>krychtiukmd</td>\n",
       "      <td>en</td>\n",
       "      <td>0.0</td>\n",
       "      <td>5.0</td>\n",
       "      <td>krychtiukmd</td>\n",
       "      <td>5738.0</td>\n",
       "      <td>4059.0</td>\n",
       "      <td>4003.0</td>\n",
       "      <td>phd</td>\n",
       "      <td>140</td>\n",
       "      <td>18</td>\n",
       "      <td>6.722222</td>\n",
       "      <td>rt #ehjacvc paper week look major bleed amic p...</td>\n",
       "      <td>3</td>\n",
       "    </tr>\n",
       "  </tbody>\n",
       "</table>\n",
       "</div>"
      ],
      "text/plain": [
       "          user lang  favorite_count  retweet_count  Screen_name  Followers  \\\n",
       "0  krychtiukmd   en             0.0            5.0  krychtiukmd     5738.0   \n",
       "1  krychtiukmd   en             8.0            2.0  krychtiukmd     5738.0   \n",
       "2  krychtiukmd   en            78.0           18.0  krychtiukmd     5738.0   \n",
       "3  krychtiukmd   en             0.0           11.0  krychtiukmd     5738.0   \n",
       "4  krychtiukmd   en             0.0            5.0  krychtiukmd     5738.0   \n",
       "\n",
       "   Friends  Tweets education  char_len  words_per_tweet  word_len  \\\n",
       "0   4059.0  4003.0       phd       139               14  9.000000   \n",
       "1   4059.0  4003.0       phd       139               21  5.523810   \n",
       "2   4059.0  4003.0       phd       126               13  8.538462   \n",
       "3   4059.0  4003.0       phd       140               20  6.000000   \n",
       "4   4059.0  4003.0       phd       140               18  6.722222   \n",
       "\n",
       "                                    tweet_normalized  edu_class  \n",
       "0  rt excellent result mitral valveinvalve procedure          3  \n",
       "1  ecpr denmark check article #criticalcare alway...          3  \n",
       "2  framingham heart study fantastic overview week...          3  \n",
       "3  rt week #acutecvdays focus postresuscitation c...          3  \n",
       "4  rt #ehjacvc paper week look major bleed amic p...          3  "
      ]
     },
     "execution_count": 2,
     "metadata": {},
     "output_type": "execute_result"
    }
   ],
   "source": [
    "#load the data\n",
    "tweet_data = pd.read_csv('../dataset/normalized_tweet_data.csv')\n",
    "tweet_data.head()"
   ]
  },
  {
   "cell_type": "code",
   "execution_count": 3,
   "metadata": {},
   "outputs": [
    {
     "data": {
      "text/plain": [
       "39564"
      ]
     },
     "execution_count": 3,
     "metadata": {},
     "output_type": "execute_result"
    }
   ],
   "source": [
    "len(tweet_data)"
   ]
  },
  {
   "cell_type": "code",
   "execution_count": 4,
   "metadata": {},
   "outputs": [],
   "source": [
    "#drop missing data\n",
    "tweet_data = tweet_data.dropna()"
   ]
  },
  {
   "cell_type": "code",
   "execution_count": 5,
   "metadata": {},
   "outputs": [],
   "source": [
    "from sklearn.metrics import roc_auc_score\n",
    "def evaluate_model(xtest, ytest, clf):\n",
    "    \"\"\" \n",
    "    This function evaluates outputs F1 Scores, AUC score and Confusion Matrix\n",
    "    \"\"\"\n",
    "    # Make predictions for Xtest\n",
    "    y_pred = clf.predict(xtest)\n",
    "    \n",
    "    # calculate roc auc score\n",
    "    roc_auc = roc_auc_score(ytest,clf.predict_proba(xtest), multi_class='ovo')\n",
    "    \n",
    "    # Confusion matrix\n",
    "    cm = metrics.confusion_matrix(ytest, y_pred)\n",
    "    \n",
    "    print('ROC-AUC score: \\n', roc_auc)\n",
    "    print('\\n', classification_report(ytest, y_pred))\n",
    "    print('\\nConfusion Matrix:\\n', cm)"
   ]
  },
  {
   "cell_type": "markdown",
   "metadata": {},
   "source": [
    "# 1. Modelling using only text data"
   ]
  },
  {
   "cell_type": "code",
   "execution_count": 6,
   "metadata": {},
   "outputs": [],
   "source": [
    "# Set X and y\n",
    "X = tweet_data['tweet_normalized']\n",
    "y = tweet_data['edu_class']"
   ]
  },
  {
   "cell_type": "code",
   "execution_count": 7,
   "metadata": {},
   "outputs": [],
   "source": [
    "# Instantiate CountVectorizer and TfidfVectorizer\n",
    "count_vect = CountVectorizer(min_df=1, ngram_range=(1, 2)) \n",
    "tfidf_vect = TfidfVectorizer(min_df=1, ngram_range=(1, 2))"
   ]
  },
  {
   "cell_type": "code",
   "execution_count": 8,
   "metadata": {},
   "outputs": [],
   "source": [
    "# Apply CountVectorizer \n",
    "X_count = count_vect.fit_transform(tweet_data['tweet_normalized'].apply(str))\n",
    "X_count = X_count.tocsc() \n",
    "\n",
    "# Apply TfidfVectorizer\n",
    "X_tfidf = tfidf_vect.fit_transform(tweet_data['tweet_normalized'].apply(str))\n",
    "X_tfidf = X_tfidf.tocsc()"
   ]
  },
  {
   "cell_type": "code",
   "execution_count": 9,
   "metadata": {},
   "outputs": [],
   "source": [
    "Xtrain_count, Xtest_count, ytrain_count, ytest_count = train_test_split(X_count, y, random_state=17)\n",
    "Xtrain_tfidf, Xtest_tfidf, ytrain_tfidf, ytest_tfidf = train_test_split(X_tfidf, y, random_state=17)"
   ]
  },
  {
   "cell_type": "markdown",
   "metadata": {},
   "source": [
    "## Naive Bayes"
   ]
  },
  {
   "cell_type": "markdown",
   "metadata": {},
   "source": [
    "### Using countvectorizer token counts"
   ]
  },
  {
   "cell_type": "code",
   "execution_count": 10,
   "metadata": {},
   "outputs": [
    {
     "name": "stdout",
     "output_type": "stream",
     "text": [
      "Best Parameters: {'alpha': 1}\n"
     ]
    }
   ],
   "source": [
    "# set the grid parameter\n",
    "param_grid = {'alpha': (1, 0.1, 0.01, 0.001, 0.0001, 0.00001)}\n",
    "# Instantiate multinomialNB()\n",
    "nb_words_count = MultinomialNB(fit_prior=True)\n",
    "# Train model\n",
    "nb_words_count_cv= GridSearchCV(estimator=nb_words_count, param_grid=param_grid, cv=5, n_jobs =4, scoring = 'roc_auc')\n",
    "nb_words_count_cv.fit(Xtrain_count,ytrain_count)\n",
    "print(\"Best Parameters: \" + str(nb_words_count_cv.best_params_))"
   ]
  },
  {
   "cell_type": "code",
   "execution_count": 11,
   "metadata": {},
   "outputs": [
    {
     "name": "stdout",
     "output_type": "stream",
     "text": [
      "ROC-AUC score: \n",
      " 0.7471695871124505\n",
      "\n",
      "               precision    recall  f1-score   support\n",
      "\n",
      "           0       0.50      0.58      0.54      2546\n",
      "           1       0.46      0.37      0.41      2383\n",
      "           2       0.43      0.42      0.43      2405\n",
      "           3       0.55      0.59      0.57      2548\n",
      "\n",
      "    accuracy                           0.49      9882\n",
      "   macro avg       0.49      0.49      0.49      9882\n",
      "weighted avg       0.49      0.49      0.49      9882\n",
      "\n",
      "\n",
      "Confusion Matrix:\n",
      " [[1471  414  396  265]\n",
      " [ 653  874  466  390]\n",
      " [ 477  328 1009  591]\n",
      " [ 320  264  449 1515]]\n"
     ]
    }
   ],
   "source": [
    "# run multinomialNB with best hyperparameter\n",
    "nb_words_count = MultinomialNB(alpha=1, fit_prior=True)\n",
    "nb_words_count.fit(Xtrain_count, ytrain_count)\n",
    "evaluate_model(Xtest_count, ytest_count, nb_words_count)"
   ]
  },
  {
   "cell_type": "markdown",
   "metadata": {},
   "source": [
    "### Using tfidfvectorizer token counts"
   ]
  },
  {
   "cell_type": "code",
   "execution_count": 12,
   "metadata": {},
   "outputs": [
    {
     "name": "stdout",
     "output_type": "stream",
     "text": [
      "Best Parameters: {'alpha': 1}\n"
     ]
    }
   ],
   "source": [
    "# Instantiate multinomialNB() \n",
    "nb_words_tfidf = MultinomialNB(fit_prior=True)\n",
    "\n",
    "# Train model\n",
    "nb_words_tfidf_cv= GridSearchCV(estimator=nb_words_tfidf, param_grid=param_grid, cv=5, n_jobs =4, scoring = 'accuracy')\n",
    "nb_words_tfidf_cv.fit(Xtrain_tfidf,ytrain_tfidf)\n",
    "print(\"Best Parameters: \" + str(nb_words_tfidf_cv.best_params_))"
   ]
  },
  {
   "cell_type": "code",
   "execution_count": 13,
   "metadata": {},
   "outputs": [
    {
     "name": "stdout",
     "output_type": "stream",
     "text": [
      "ROC-AUC score: \n",
      " 0.7357275038221825\n",
      "\n",
      "               precision    recall  f1-score   support\n",
      "\n",
      "           0       0.49      0.59      0.53      2546\n",
      "           1       0.49      0.31      0.38      2383\n",
      "           2       0.41      0.43      0.42      2405\n",
      "           3       0.53      0.60      0.56      2548\n",
      "\n",
      "    accuracy                           0.48      9882\n",
      "   macro avg       0.48      0.48      0.47      9882\n",
      "weighted avg       0.48      0.48      0.48      9882\n",
      "\n",
      "\n",
      "Confusion Matrix:\n",
      " [[1490  314  435  307]\n",
      " [ 694  729  542  418]\n",
      " [ 501  255 1040  609]\n",
      " [ 345  187  496 1520]]\n"
     ]
    }
   ],
   "source": [
    "# run multinomialNB with best hyperparameter\n",
    "nb_words_tfidf = MultinomialNB(alpha=1, fit_prior=True)\n",
    "nb_words_tfidf.fit(Xtrain_tfidf, ytrain_tfidf)\n",
    "evaluate_model(Xtest_tfidf, ytest_tfidf, nb_words_tfidf)"
   ]
  },
  {
   "cell_type": "markdown",
   "metadata": {},
   "source": [
    "## Logistic regression"
   ]
  },
  {
   "cell_type": "markdown",
   "metadata": {},
   "source": [
    "### Using countvectorizer token counts"
   ]
  },
  {
   "cell_type": "code",
   "execution_count": 15,
   "metadata": {},
   "outputs": [
    {
     "name": "stdout",
     "output_type": "stream",
     "text": [
      "Best Parameters: {'C': 1, 'penalty': 'l2', 'solver': 'liblinear'}\n"
     ]
    }
   ],
   "source": [
    "#set the hyperparameter\n",
    "param_grid = {'penalty': ['l1','l2'], 'C': [0.0001, 0.001,0.01,0.1,1,5,10,100], 'solver': ['liblinear']}\n",
    "# Instantiate logistic regression\n",
    "logreg_count = LogisticRegression()\n",
    "logreg_count_cv= GridSearchCV(estimator=logreg_count, param_grid=param_grid, cv=5, n_jobs =4, scoring = 'accuracy')\n",
    "logreg_count_cv.fit(Xtrain_count,ytrain_count)\n",
    "print(\"Best Parameters: \" + str(logreg_count_cv.best_params_))"
   ]
  },
  {
   "cell_type": "code",
   "execution_count": 16,
   "metadata": {},
   "outputs": [
    {
     "name": "stdout",
     "output_type": "stream",
     "text": [
      "ROC-AUC score: \n",
      " 0.7410950564028967\n",
      "\n",
      "               precision    recall  f1-score   support\n",
      "\n",
      "           0       0.48      0.59      0.53      2546\n",
      "           1       0.45      0.36      0.40      2383\n",
      "           2       0.43      0.40      0.41      2405\n",
      "           3       0.58      0.59      0.59      2548\n",
      "\n",
      "    accuracy                           0.49      9882\n",
      "   macro avg       0.49      0.49      0.48      9882\n",
      "weighted avg       0.49      0.49      0.49      9882\n",
      "\n",
      "\n",
      "Confusion Matrix:\n",
      " [[1512  450  396  188]\n",
      " [ 705  863  463  352]\n",
      " [ 559  352  955  539]\n",
      " [ 372  239  425 1512]]\n"
     ]
    }
   ],
   "source": [
    "# Instantiate and fit training data to Logistic Regression Model (CountVec)\n",
    "logreg_count = LogisticRegression(penalty = 'l2', C=1, solver='liblinear')\n",
    "logreg_count.fit(Xtrain_count, ytrain_count)\n",
    "evaluate_model(Xtest_count, ytest_count, logreg_count)"
   ]
  },
  {
   "cell_type": "markdown",
   "metadata": {},
   "source": [
    "### Using tfidfvectorizer token counts"
   ]
  },
  {
   "cell_type": "code",
   "execution_count": 17,
   "metadata": {},
   "outputs": [
    {
     "name": "stdout",
     "output_type": "stream",
     "text": [
      "Best Parameters: {'C': 5, 'penalty': 'l2', 'solver': 'liblinear'}\n"
     ]
    }
   ],
   "source": [
    "# Instantiate logistic regression\n",
    "logreg_tfidf = LogisticRegression()\n",
    "logreg_tfidf_cv= GridSearchCV(estimator=logreg_tfidf, param_grid=param_grid, cv=5, n_jobs =4, scoring = 'accuracy')\n",
    "logreg_tfidf_cv.fit(Xtrain_tfidf,ytrain_tfidf)\n",
    "print(\"Best Parameters: \" + str(logreg_tfidf_cv.best_params_))"
   ]
  },
  {
   "cell_type": "code",
   "execution_count": 18,
   "metadata": {},
   "outputs": [
    {
     "name": "stdout",
     "output_type": "stream",
     "text": [
      "ROC-AUC score: \n",
      " 0.7396375902078733\n",
      "\n",
      "               precision    recall  f1-score   support\n",
      "\n",
      "           0       0.49      0.57      0.53      2546\n",
      "           1       0.46      0.35      0.40      2383\n",
      "           2       0.42      0.41      0.41      2405\n",
      "           3       0.57      0.61      0.59      2548\n",
      "\n",
      "    accuracy                           0.49      9882\n",
      "   macro avg       0.48      0.49      0.48      9882\n",
      "weighted avg       0.49      0.49      0.48      9882\n",
      "\n",
      "\n",
      "Confusion Matrix:\n",
      " [[1451  434  453  208]\n",
      " [ 641  844  490  408]\n",
      " [ 515  345  987  558]\n",
      " [ 347  218  431 1552]]\n"
     ]
    }
   ],
   "source": [
    "# Instantiate and fit training data to Logistic Regression Model (TFIDF Vec)\n",
    "logreg_tfidf = LogisticRegression(penalty = 'l2', C=5, solver='liblinear')\n",
    "logreg_tfidf.fit(Xtrain_tfidf, ytrain_tfidf)\n",
    "evaluate_model(Xtest_tfidf, ytest_tfidf, logreg_tfidf)"
   ]
  },
  {
   "cell_type": "markdown",
   "metadata": {},
   "source": [
    "## Random forest model"
   ]
  },
  {
   "cell_type": "markdown",
   "metadata": {},
   "source": [
    "### Using countvectorizer token counts"
   ]
  },
  {
   "cell_type": "code",
   "execution_count": 19,
   "metadata": {},
   "outputs": [
    {
     "name": "stdout",
     "output_type": "stream",
     "text": [
      "Best Parameters: {'criterion': 'gini', 'n_estimators': 100}\n"
     ]
    }
   ],
   "source": [
    "param_grid = {\n",
    "    'criterion': ['gini', 'entropy'],\n",
    "     'n_estimators': [10, 50, 100, 200]}\n",
    "\n",
    "rf_clf_count = RandomForestClassifier(class_weight='balanced')\n",
    "\n",
    "rf_count_cv = GridSearchCV(estimator=rf_clf_count, param_grid=param_grid, cv=5, n_jobs =4, scoring = 'accuracy')\n",
    "rf_count_cv.fit(Xtrain_count,ytrain_count)\n",
    "print(\"Best Parameters: \" + str(rf_count_cv.best_params_))"
   ]
  },
  {
   "cell_type": "code",
   "execution_count": 20,
   "metadata": {},
   "outputs": [
    {
     "name": "stdout",
     "output_type": "stream",
     "text": [
      "ROC-AUC score: \n",
      " 0.7115357130391681\n",
      "\n",
      "               precision    recall  f1-score   support\n",
      "\n",
      "           0       0.44      0.61      0.51      2546\n",
      "           1       0.44      0.27      0.34      2383\n",
      "           2       0.41      0.37      0.39      2405\n",
      "           3       0.53      0.57      0.55      2548\n",
      "\n",
      "    accuracy                           0.46      9882\n",
      "   macro avg       0.46      0.46      0.45      9882\n",
      "weighted avg       0.46      0.46      0.45      9882\n",
      "\n",
      "\n",
      "Confusion Matrix:\n",
      " [[1545  350  430  221]\n",
      " [ 814  644  427  498]\n",
      " [ 667  276  894  568]\n",
      " [ 496  179  412 1461]]\n"
     ]
    }
   ],
   "source": [
    "# Instantiate and fit training data to Random Forest Model (CountVec)\n",
    "forest_clf_count = RandomForestClassifier(class_weight='balanced', criterion = 'gini',\n",
    "                                          n_estimators = 100).fit(Xtrain_count, ytrain_count)\n",
    "evaluate_model(Xtest_count, ytest_count, forest_clf_count)"
   ]
  },
  {
   "cell_type": "markdown",
   "metadata": {},
   "source": [
    "### Using tfidfvectorizer token counts"
   ]
  },
  {
   "cell_type": "code",
   "execution_count": 21,
   "metadata": {},
   "outputs": [
    {
     "name": "stdout",
     "output_type": "stream",
     "text": [
      "Best Parameters: {'criterion': 'gini', 'n_estimators': 100}\n"
     ]
    }
   ],
   "source": [
    "rf_clf_tfidf = RandomForestClassifier(class_weight='balanced')\n",
    "\n",
    "rf_tfidf_cv = GridSearchCV(estimator=rf_clf_tfidf, param_grid=param_grid, cv=5, n_jobs =4, scoring = 'accuracy')\n",
    "rf_tfidf_cv.fit(Xtrain_tfidf,ytrain_tfidf)\n",
    "print(\"Best Parameters: \" + str(rf_tfidf_cv.best_params_))"
   ]
  },
  {
   "cell_type": "code",
   "execution_count": 22,
   "metadata": {},
   "outputs": [
    {
     "name": "stdout",
     "output_type": "stream",
     "text": [
      "ROC-AUC score: \n",
      " 0.7233007786836843\n",
      "\n",
      "               precision    recall  f1-score   support\n",
      "\n",
      "           0       0.45      0.64      0.53      2546\n",
      "           1       0.48      0.24      0.32      2383\n",
      "           2       0.40      0.45      0.42      2405\n",
      "           3       0.58      0.54      0.56      2548\n",
      "\n",
      "    accuracy                           0.47      9882\n",
      "   macro avg       0.48      0.47      0.46      9882\n",
      "weighted avg       0.48      0.47      0.46      9882\n",
      "\n",
      "\n",
      "Confusion Matrix:\n",
      " [[1628  306  469  143]\n",
      " [ 841  566  573  403]\n",
      " [ 671  184 1082  468]\n",
      " [ 480  118  574 1376]]\n"
     ]
    }
   ],
   "source": [
    "# Instantiate and fit training data to Random Forest Model (CountVec)\n",
    "forest_clf_tfidf = RandomForestClassifier(class_weight='balanced', criterion = 'gini',\n",
    "                                          n_estimators = 100).fit(Xtrain_tfidf, ytrain_tfidf)\n",
    "evaluate_model(Xtest_tfidf, ytest_tfidf, forest_clf_tfidf)"
   ]
  },
  {
   "cell_type": "markdown",
   "metadata": {},
   "source": [
    "## Linear SVC"
   ]
  },
  {
   "cell_type": "markdown",
   "metadata": {},
   "source": [
    "### Using countvectorizer token counts"
   ]
  },
  {
   "cell_type": "code",
   "execution_count": 24,
   "metadata": {},
   "outputs": [
    {
     "name": "stdout",
     "output_type": "stream",
     "text": [
      "Best Parameters: {'C': 0.1}\n"
     ]
    }
   ],
   "source": [
    "param_grid = {'C': [0.01, 0.1, 1.0, 5.0]} \n",
    "svc_count = LinearSVC()\n",
    "\n",
    "svc_count_cv = GridSearchCV(estimator=svc_count, param_grid=param_grid, cv=5, n_jobs =4, scoring = 'accuracy')\n",
    "svc_count_cv.fit(Xtrain_count,ytrain_count)\n",
    "print(\"Best Parameters: \" + str(svc_count_cv.best_params_))\n"
   ]
  },
  {
   "cell_type": "code",
   "execution_count": 25,
   "metadata": {},
   "outputs": [
    {
     "name": "stdout",
     "output_type": "stream",
     "text": [
      "\n",
      "               precision    recall  f1-score   support\n",
      "\n",
      "           0       0.47      0.60      0.53      2546\n",
      "           1       0.45      0.36      0.40      2383\n",
      "           2       0.43      0.39      0.41      2405\n",
      "           3       0.57      0.59      0.58      2548\n",
      "\n",
      "    accuracy                           0.49      9882\n",
      "   macro avg       0.48      0.48      0.48      9882\n",
      "weighted avg       0.48      0.49      0.48      9882\n",
      "\n",
      "\n",
      "Confusion Matrix:\n",
      " [[1516  440  389  201]\n",
      " [ 726  856  440  361]\n",
      " [ 573  357  934  541]\n",
      " [ 385  248  423 1492]]\n"
     ]
    }
   ],
   "source": [
    "# Instantiate and fit training data to Random Forest Model (tfidfVec)\n",
    "svc_clf_count = LinearSVC(C=0.1).fit(Xtrain_count, ytrain_count)\n",
    "evaluate_model(Xtest_count, ytest_count, svc_clf_count)"
   ]
  },
  {
   "cell_type": "markdown",
   "metadata": {},
   "source": [
    "### Using tfidfvectorizer token counts"
   ]
  },
  {
   "cell_type": "code",
   "execution_count": 26,
   "metadata": {},
   "outputs": [
    {
     "name": "stdout",
     "output_type": "stream",
     "text": [
      "Best Parameters: {'C': 1.0}\n"
     ]
    }
   ],
   "source": [
    "svc_tfidf = LinearSVC()\n",
    "svc_tfidf_cv = GridSearchCV(estimator=svc_tfidf, param_grid=param_grid, cv=5, n_jobs =4, scoring = 'accuracy')\n",
    "svc_tfidf_cv.fit(Xtrain_tfidf,ytrain_tfidf)\n",
    "print(\"Best Parameters: \" + str(svc_tfidf_cv.best_params_))\n"
   ]
  },
  {
   "cell_type": "code",
   "execution_count": 27,
   "metadata": {},
   "outputs": [
    {
     "name": "stdout",
     "output_type": "stream",
     "text": [
      "\n",
      "               precision    recall  f1-score   support\n",
      "\n",
      "           0       0.49      0.55      0.52      2546\n",
      "           1       0.46      0.38      0.41      2383\n",
      "           2       0.42      0.40      0.41      2405\n",
      "           3       0.56      0.62      0.59      2548\n",
      "\n",
      "    accuracy                           0.49      9882\n",
      "   macro avg       0.48      0.49      0.48      9882\n",
      "weighted avg       0.48      0.49      0.48      9882\n",
      "\n",
      "\n",
      "Confusion Matrix:\n",
      " [[1403  474  442  227]\n",
      " [ 613  894  464  412]\n",
      " [ 504  352  961  588]\n",
      " [ 333  244  403 1568]]\n"
     ]
    }
   ],
   "source": [
    "# Instantiate and fit training data to Random Forest Model (tfidfVec)\n",
    "svc_clf_tfidf = LinearSVC(C=1).fit(Xtrain_tfidf, ytrain_tfidf)\n",
    "evaluate_model(Xtest_tfidf, ytest_tfidf, svc_clf_tfidf)"
   ]
  },
  {
   "cell_type": "markdown",
   "metadata": {},
   "source": [
    "The performance of the model with text only is descent with the accuracy of 49%. In the next step, I will also include Twitter user and tweet information to predict the education level of the Twitter user."
   ]
  },
  {
   "cell_type": "markdown",
   "metadata": {},
   "source": [
    "# 2. Modelling with text data and numerical data"
   ]
  },
  {
   "cell_type": "code",
   "execution_count": 28,
   "metadata": {},
   "outputs": [],
   "source": [
    "numeric_features = ['favorite_count','retweet_count','Followers','Friends', 'Tweets']\n",
    "minmax_scaler = MinMaxScaler()"
   ]
  },
  {
   "cell_type": "code",
   "execution_count": 29,
   "metadata": {},
   "outputs": [],
   "source": [
    "# Set X and y\n",
    "X = tweet_data[['tweet_normalized','favorite_count','retweet_count','Followers','Friends', 'Tweets']]\n",
    "y = tweet_data['edu_class']"
   ]
  },
  {
   "cell_type": "code",
   "execution_count": 30,
   "metadata": {},
   "outputs": [],
   "source": [
    "# Instantiate CountVectorizer and TfidfVectorizer\n",
    "count_vect = CountVectorizer(min_df=1, ngram_range=(1, 2)) \n",
    "tfidf_vect = TfidfVectorizer(min_df=1, ngram_range=(1, 2))"
   ]
  },
  {
   "cell_type": "code",
   "execution_count": 31,
   "metadata": {},
   "outputs": [],
   "source": [
    "# construct the column transfomer\n",
    "count_column_transformer = ColumnTransformer(\n",
    "    [('count', count_vect, 'tweet_normalized'),('num', minmax_scaler,numeric_features)])\n",
    "\n",
    "tfidf_column_transformer = ColumnTransformer(\n",
    "    [('tfidf1', tfidf_vect, 'tweet_normalized'),('num', minmax_scaler,numeric_features)])"
   ]
  },
  {
   "cell_type": "code",
   "execution_count": 32,
   "metadata": {},
   "outputs": [],
   "source": [
    "# Apply CountVectorizer \n",
    "X_count = count_column_transformer.fit_transform(X)\n",
    "X_count = X_count.tocsc()\n",
    "\n",
    "# Apply TfidfVectorizer\n",
    "X_tfidf = tfidf_column_transformer.fit_transform(X)\n",
    "X_tfidf = X_tfidf.tocsc()"
   ]
  },
  {
   "cell_type": "code",
   "execution_count": 33,
   "metadata": {},
   "outputs": [],
   "source": [
    "Xtrain_count, Xtest_count, ytrain_count, ytest_count = train_test_split(X_count, y, random_state=17)\n",
    "Xtrain_tfidf, Xtest_tfidf, ytrain_tfidf, ytest_tfidf = train_test_split(X_tfidf, y, random_state=17)"
   ]
  },
  {
   "cell_type": "markdown",
   "metadata": {},
   "source": [
    "## Naive Bayes"
   ]
  },
  {
   "cell_type": "markdown",
   "metadata": {},
   "source": [
    "### Using countvectorizer token counts"
   ]
  },
  {
   "cell_type": "code",
   "execution_count": 35,
   "metadata": {},
   "outputs": [
    {
     "name": "stdout",
     "output_type": "stream",
     "text": [
      "Best Parameters: {'alpha': 1}\n"
     ]
    }
   ],
   "source": [
    "# set the grid parameter\n",
    "param_grid = {'alpha': (1, 0.1, 0.01, 0.001, 0.0001, 0.00001)}\n",
    "# Instantiate multinomialNB()\n",
    "nb_words_count = MultinomialNB(fit_prior=True)\n",
    "# Train model\n",
    "nb_words_count_cv= GridSearchCV(estimator=nb_words_count, param_grid=param_grid, cv=5, n_jobs =4, scoring = 'accuracy')\n",
    "nb_words_count_cv.fit(Xtrain_count,ytrain_count)\n",
    "print(\"Best Parameters: \" + str(nb_words_count_cv.best_params_))"
   ]
  },
  {
   "cell_type": "code",
   "execution_count": 36,
   "metadata": {},
   "outputs": [
    {
     "name": "stdout",
     "output_type": "stream",
     "text": [
      "ROC-AUC score: \n",
      " 0.749418770752272\n",
      "\n",
      "               precision    recall  f1-score   support\n",
      "\n",
      "           0       0.51      0.58      0.54      2546\n",
      "           1       0.47      0.37      0.41      2383\n",
      "           2       0.44      0.42      0.43      2405\n",
      "           3       0.55      0.61      0.58      2548\n",
      "\n",
      "    accuracy                           0.50      9882\n",
      "   macro avg       0.49      0.49      0.49      9882\n",
      "weighted avg       0.49      0.50      0.49      9882\n",
      "\n",
      "\n",
      "Confusion Matrix:\n",
      " [[1471  413  397  265]\n",
      " [ 650  874  467  392]\n",
      " [ 470  329 1009  597]\n",
      " [ 300  256  445 1547]]\n"
     ]
    }
   ],
   "source": [
    "# run multinomialNB with best hyperparameter\n",
    "nb_words_count = MultinomialNB(alpha=1, fit_prior=True)\n",
    "nb_words_count.fit(Xtrain_count, ytrain_count)\n",
    "evaluate_model(Xtest_count, ytest_count, nb_words_count)"
   ]
  },
  {
   "cell_type": "markdown",
   "metadata": {},
   "source": [
    "### Using tfidfvectorizer token counts"
   ]
  },
  {
   "cell_type": "code",
   "execution_count": 37,
   "metadata": {},
   "outputs": [
    {
     "name": "stdout",
     "output_type": "stream",
     "text": [
      "Best Parameters: {'alpha': 1}\n"
     ]
    }
   ],
   "source": [
    "# Instantiate multinomialNB() \n",
    "nb_words_tfidf = MultinomialNB(fit_prior=True)\n",
    "\n",
    "# Train model\n",
    "nb_words_tfidf_cv= GridSearchCV(estimator=nb_words_tfidf, param_grid=param_grid, cv=5, n_jobs =4, scoring = 'accuracy')\n",
    "nb_words_tfidf_cv.fit(Xtrain_tfidf,ytrain_tfidf)\n",
    "print(\"Best Parameters: \" + str(nb_words_tfidf_cv.best_params_))"
   ]
  },
  {
   "cell_type": "code",
   "execution_count": 38,
   "metadata": {},
   "outputs": [
    {
     "name": "stdout",
     "output_type": "stream",
     "text": [
      "ROC-AUC score: \n",
      " 0.7488672019306332\n",
      "\n",
      "               precision    recall  f1-score   support\n",
      "\n",
      "           0       0.51      0.58      0.55      2546\n",
      "           1       0.50      0.31      0.38      2383\n",
      "           2       0.42      0.43      0.42      2405\n",
      "           3       0.55      0.67      0.60      2548\n",
      "\n",
      "    accuracy                           0.50      9882\n",
      "   macro avg       0.50      0.50      0.49      9882\n",
      "weighted avg       0.50      0.50      0.49      9882\n",
      "\n",
      "\n",
      "Confusion Matrix:\n",
      " [[1481  313  434  318]\n",
      " [ 664  728  549  442]\n",
      " [ 472  247 1028  658]\n",
      " [ 263  162  423 1700]]\n"
     ]
    }
   ],
   "source": [
    "# run multinomialNB with best hyperparameter\n",
    "nb_words_tfidf = MultinomialNB(alpha=1, fit_prior=True)\n",
    "nb_words_tfidf.fit(Xtrain_tfidf, ytrain_tfidf)\n",
    "evaluate_model(Xtest_tfidf, ytest_tfidf, nb_words_tfidf)"
   ]
  },
  {
   "cell_type": "markdown",
   "metadata": {},
   "source": [
    "## Logistic regression"
   ]
  },
  {
   "cell_type": "markdown",
   "metadata": {},
   "source": [
    "### Using countvectorizer token counts"
   ]
  },
  {
   "cell_type": "code",
   "execution_count": 39,
   "metadata": {},
   "outputs": [
    {
     "name": "stdout",
     "output_type": "stream",
     "text": [
      "Best Parameters: {'C': 5, 'penalty': 'l1', 'solver': 'liblinear'}\n"
     ]
    }
   ],
   "source": [
    "#set the hyperparameter\n",
    "param_grid = {'penalty': ['l1', 'l2'], 'C': [0.0001, 0.001,0.01,0.1,1,5,10,100], 'solver': ['liblinear']}\n",
    "# Instantiate logistic regression\n",
    "logreg_count = LogisticRegression()\n",
    "logreg_count_cv= GridSearchCV(estimator=logreg_count, param_grid=param_grid, cv=5, n_jobs =4, scoring = 'accuracy')\n",
    "logreg_count_cv.fit(Xtrain_count,ytrain_count)\n",
    "print(\"Best Parameters: \" + str(logreg_count_cv.best_params_))"
   ]
  },
  {
   "cell_type": "code",
   "execution_count": 40,
   "metadata": {},
   "outputs": [
    {
     "name": "stdout",
     "output_type": "stream",
     "text": [
      "ROC-AUC score: \n",
      " 0.7735981635279224\n",
      "\n",
      "               precision    recall  f1-score   support\n",
      "\n",
      "           0       0.52      0.63      0.57      2546\n",
      "           1       0.47      0.37      0.41      2383\n",
      "           2       0.45      0.39      0.42      2405\n",
      "           3       0.68      0.75      0.72      2548\n",
      "\n",
      "    accuracy                           0.54      9882\n",
      "   macro avg       0.53      0.54      0.53      9882\n",
      "weighted avg       0.53      0.54      0.53      9882\n",
      "\n",
      "\n",
      "Confusion Matrix:\n",
      " [[1614  409  399  124]\n",
      " [ 744  880  463  296]\n",
      " [ 604  393  944  464]\n",
      " [ 126  195  312 1915]]\n"
     ]
    }
   ],
   "source": [
    "# Instantiate and fit training data to Logistic Regression Model (CountVec)\n",
    "logreg_count = LogisticRegression(penalty = 'l1', C=5, solver='liblinear')\n",
    "logreg_count.fit(Xtrain_count, ytrain_count)\n",
    "evaluate_model(Xtest_count, ytest_count, logreg_count)"
   ]
  },
  {
   "cell_type": "markdown",
   "metadata": {},
   "source": [
    "### Using tfidfvectorizer token counts"
   ]
  },
  {
   "cell_type": "code",
   "execution_count": 41,
   "metadata": {},
   "outputs": [
    {
     "name": "stdout",
     "output_type": "stream",
     "text": [
      "Best Parameters: {'C': 5, 'penalty': 'l1', 'solver': 'liblinear'}\n"
     ]
    }
   ],
   "source": [
    "# Instantiate logistic regression\n",
    "logreg_tfidf = LogisticRegression()\n",
    "logreg_tfidf_cv= GridSearchCV(estimator=logreg_tfidf, param_grid=param_grid, cv=5, n_jobs =4, scoring = 'accuracy')\n",
    "logreg_tfidf_cv.fit(Xtrain_tfidf,ytrain_tfidf)\n",
    "print(\"Best Parameters: \" + str(logreg_tfidf_cv.best_params_))"
   ]
  },
  {
   "cell_type": "code",
   "execution_count": 42,
   "metadata": {},
   "outputs": [
    {
     "name": "stdout",
     "output_type": "stream",
     "text": [
      "ROC-AUC score: \n",
      " 0.7887330567975271\n",
      "\n",
      "               precision    recall  f1-score   support\n",
      "\n",
      "           0       0.53      0.63      0.58      2546\n",
      "           1       0.48      0.38      0.42      2383\n",
      "           2       0.45      0.41      0.43      2405\n",
      "           3       0.72      0.80      0.76      2548\n",
      "\n",
      "    accuracy                           0.56      9882\n",
      "   macro avg       0.55      0.55      0.55      9882\n",
      "weighted avg       0.55      0.56      0.55      9882\n",
      "\n",
      "\n",
      "Confusion Matrix:\n",
      " [[1606  433  418   89]\n",
      " [ 720  900  498  265]\n",
      " [ 612  392  978  423]\n",
      " [  83  167  268 2030]]\n"
     ]
    }
   ],
   "source": [
    "# Instantiate and fit training data to Logistic Regression Model (TFIDF Vec)\n",
    "logreg_tfidf = LogisticRegression(penalty = 'l1', C=5, solver='liblinear')\n",
    "logreg_tfidf.fit(Xtrain_tfidf, ytrain_tfidf)\n",
    "evaluate_model(Xtest_tfidf, ytest_tfidf, logreg_tfidf)"
   ]
  },
  {
   "cell_type": "markdown",
   "metadata": {},
   "source": [
    "## Random forest "
   ]
  },
  {
   "cell_type": "markdown",
   "metadata": {},
   "source": [
    "### Using countvectorizer token counts"
   ]
  },
  {
   "cell_type": "code",
   "execution_count": 43,
   "metadata": {},
   "outputs": [
    {
     "name": "stdout",
     "output_type": "stream",
     "text": [
      "Best Parameters: {'criterion': 'gini', 'n_estimators': 100}\n"
     ]
    }
   ],
   "source": [
    "param_grid = {\n",
    "    'criterion': ['gini', 'entropy'],\n",
    "     'n_estimators': [10, 50, 100, 200]}\n",
    "\n",
    "rf_clf_count = RandomForestClassifier(class_weight='balanced')\n",
    "\n",
    "rf_count_cv = GridSearchCV(estimator=rf_clf_count, param_grid=param_grid, cv=5, n_jobs =4, scoring = 'accuracy')\n",
    "rf_count_cv.fit(Xtrain_count,ytrain_count)\n",
    "print(\"Best Parameters: \" + str(rf_count_cv.best_params_))"
   ]
  },
  {
   "cell_type": "code",
   "execution_count": 44,
   "metadata": {},
   "outputs": [
    {
     "name": "stdout",
     "output_type": "stream",
     "text": [
      "ROC-AUC score: \n",
      " 0.8716461326975674\n",
      "\n",
      "               precision    recall  f1-score   support\n",
      "\n",
      "           0       0.59      0.85      0.70      2546\n",
      "           1       0.64      0.47      0.54      2383\n",
      "           2       0.67      0.38      0.48      2405\n",
      "           3       0.80      0.97      0.88      2548\n",
      "\n",
      "    accuracy                           0.67      9882\n",
      "   macro avg       0.67      0.67      0.65      9882\n",
      "weighted avg       0.67      0.67      0.65      9882\n",
      "\n",
      "\n",
      "Confusion Matrix:\n",
      " [[2168  162  148   68]\n",
      " [ 785 1114  271  213]\n",
      " [ 718  429  904  354]\n",
      " [   6   30   36 2476]]\n"
     ]
    }
   ],
   "source": [
    "# Instantiate and fit training data to Random Forest Model (CountVec)\n",
    "forest_clf_count = RandomForestClassifier(class_weight='balanced', criterion = 'gini',\n",
    "                                          n_estimators = 100).fit(Xtrain_count, ytrain_count)\n",
    "evaluate_model(Xtest_count, ytest_count, forest_clf_count)"
   ]
  },
  {
   "cell_type": "markdown",
   "metadata": {},
   "source": [
    "### Using tfidfvectorizer token counts"
   ]
  },
  {
   "cell_type": "code",
   "execution_count": 45,
   "metadata": {},
   "outputs": [
    {
     "name": "stdout",
     "output_type": "stream",
     "text": [
      "Best Parameters: {'criterion': 'gini', 'n_estimators': 100}\n"
     ]
    }
   ],
   "source": [
    "rf_clf_tfidf = RandomForestClassifier(class_weight='balanced')\n",
    "\n",
    "rf_tfidf_cv = GridSearchCV(estimator=rf_clf_tfidf, param_grid=param_grid, cv=5, n_jobs =4, scoring = 'accuracy')\n",
    "rf_tfidf_cv.fit(Xtrain_tfidf,ytrain_tfidf)\n",
    "print(\"Best Parameters: \" + str(rf_tfidf_cv.best_params_))"
   ]
  },
  {
   "cell_type": "code",
   "execution_count": 46,
   "metadata": {},
   "outputs": [
    {
     "name": "stdout",
     "output_type": "stream",
     "text": [
      "ROC-AUC score: \n",
      " 0.8687495492405567\n",
      "\n",
      "               precision    recall  f1-score   support\n",
      "\n",
      "           0       0.59      0.82      0.69      2546\n",
      "           1       0.64      0.44      0.52      2383\n",
      "           2       0.61      0.41      0.49      2405\n",
      "           3       0.80      0.97      0.87      2548\n",
      "\n",
      "    accuracy                           0.67      9882\n",
      "   macro avg       0.66      0.66      0.64      9882\n",
      "weighted avg       0.66      0.67      0.65      9882\n",
      "\n",
      "\n",
      "Confusion Matrix:\n",
      " [[2090  164  225   67]\n",
      " [ 766 1050  360  207]\n",
      " [ 664  399  983  359]\n",
      " [   3   32   41 2472]]\n"
     ]
    }
   ],
   "source": [
    "# Instantiate and fit training data to Random Forest Model (tfidfVec)\n",
    "forest_clf_tfidf = RandomForestClassifier(class_weight='balanced', criterion = 'gini',\n",
    "                                          n_estimators = 100).fit(Xtrain_tfidf, ytrain_tfidf)\n",
    "evaluate_model(Xtest_tfidf, ytest_tfidf, forest_clf_tfidf)"
   ]
  },
  {
   "cell_type": "markdown",
   "metadata": {},
   "source": [
    "## LinearSVC"
   ]
  },
  {
   "cell_type": "markdown",
   "metadata": {},
   "source": [
    "### Using countvectorizer token counts"
   ]
  },
  {
   "cell_type": "code",
   "execution_count": 47,
   "metadata": {},
   "outputs": [
    {
     "name": "stdout",
     "output_type": "stream",
     "text": [
      "Best Parameters: {'C': 0.1}\n"
     ]
    }
   ],
   "source": [
    "param_grid = {'C': [0.01, 0.1, 1.0, 5.0]} \n",
    "svc_count = LinearSVC()\n",
    "\n",
    "svc_count_cv = GridSearchCV(estimator=svc_count, param_grid=param_grid, cv=5, n_jobs =4, scoring = 'accuracy')\n",
    "svc_count_cv.fit(Xtrain_count,ytrain_count)\n",
    "print(\"Best Parameters: \" + str(svc_count_cv.best_params_))"
   ]
  },
  {
   "cell_type": "code",
   "execution_count": 50,
   "metadata": {},
   "outputs": [
    {
     "name": "stdout",
     "output_type": "stream",
     "text": [
      "\n",
      "               precision    recall  f1-score   support\n",
      "\n",
      "           0       0.49      0.62      0.55      2546\n",
      "           1       0.46      0.37      0.41      2383\n",
      "           2       0.44      0.39      0.42      2405\n",
      "           3       0.63      0.65      0.64      2548\n",
      "\n",
      "    accuracy                           0.51      9882\n",
      "   macro avg       0.51      0.51      0.50      9882\n",
      "weighted avg       0.51      0.51      0.51      9882\n",
      "\n",
      "\n",
      "Confusion Matrix:\n",
      " [[1572  444  377  153]\n",
      " [ 732  876  440  335]\n",
      " [ 594  362  946  503]\n",
      " [ 292  221  369 1666]]\n"
     ]
    }
   ],
   "source": [
    "# Instantiate and fit training data to Random Forest Model (tfidfVec)\n",
    "svc_clf_count = LinearSVC(C=0.1).fit(Xtrain_count, ytrain_count)\n",
    "evaluate_model(Xtest_count, ytest_count, svc_clf_count)"
   ]
  },
  {
   "cell_type": "markdown",
   "metadata": {},
   "source": [
    "### Using tfidfvectorizer token counts"
   ]
  },
  {
   "cell_type": "code",
   "execution_count": 51,
   "metadata": {},
   "outputs": [
    {
     "name": "stdout",
     "output_type": "stream",
     "text": [
      "Best Parameters: {'C': 1.0}\n"
     ]
    }
   ],
   "source": [
    "svc_tfidf = LinearSVC()\n",
    "svc_tfidf_cv = GridSearchCV(estimator=svc_tfidf, param_grid=param_grid, cv=5, n_jobs =4, scoring = 'accuracy')\n",
    "svc_tfidf_cv.fit(Xtrain_tfidf,ytrain_tfidf)\n",
    "print(\"Best Parameters: \" + str(svc_tfidf_cv.best_params_))"
   ]
  },
  {
   "cell_type": "code",
   "execution_count": 52,
   "metadata": {},
   "outputs": [
    {
     "name": "stdout",
     "output_type": "stream",
     "text": [
      "\n",
      "               precision    recall  f1-score   support\n",
      "\n",
      "           0       0.52      0.61      0.56      2546\n",
      "           1       0.47      0.38      0.42      2383\n",
      "           2       0.46      0.41      0.43      2405\n",
      "           3       0.66      0.73      0.69      2548\n",
      "\n",
      "    accuracy                           0.54      9882\n",
      "   macro avg       0.53      0.53      0.53      9882\n",
      "weighted avg       0.53      0.54      0.53      9882\n",
      "\n",
      "\n",
      "Confusion Matrix:\n",
      " [[1562  454  395  135]\n",
      " [ 683  902  448  350]\n",
      " [ 575  354  986  490]\n",
      " [ 169  192  321 1866]]\n"
     ]
    }
   ],
   "source": [
    "# Instantiate and fit training data to Random Forest Model (tfidfVec)\n",
    "svc_clf_tfidf = LinearSVC(C=1).fit(Xtrain_tfidf, ytrain_tfidf)\n",
    "evaluate_model(Xtest_tfidf, ytest_tfidf, svc_clf_tfidf)"
   ]
  },
  {
   "cell_type": "markdown",
   "metadata": {},
   "source": [
    "Since Random Forest model with Countvectorizer performed the best with the accuracy of 67%, I will save this model for future use."
   ]
  },
  {
   "cell_type": "code",
   "execution_count": 53,
   "metadata": {},
   "outputs": [],
   "source": [
    "# save the model\n",
    "filename = '../model/twitter_user_edu_predict_model.sav'\n",
    "pickle.dump(forest_clf_count, open(filename, 'wb'))"
   ]
  },
  {
   "cell_type": "markdown",
   "metadata": {},
   "source": [
    "# 3. Targeting specific class for different business cases"
   ]
  },
  {
   "cell_type": "markdown",
   "metadata": {},
   "source": [
    "Sometimes it may be of interest for some businesses to predict the education level of a specific class, for example, for the military to target ads to high school graduates specifically. In such cases, the multiclass target variable can be converted to binary variable, for example, target variable with two classes- high school graduate vs others. To test if the performance of the model to predict the specific class will further improve, in the next step, I am going to evaluate various machine learning models with bachelor vs others."
   ]
  },
  {
   "cell_type": "code",
   "execution_count": 54,
   "metadata": {},
   "outputs": [],
   "source": [
    "#load the data\n",
    "tweet_data = pd.read_csv('../dataset/normalized_tweet_data.csv')"
   ]
  },
  {
   "cell_type": "code",
   "execution_count": 55,
   "metadata": {},
   "outputs": [
    {
     "data": {
      "text/html": [
       "<div>\n",
       "<style scoped>\n",
       "    .dataframe tbody tr th:only-of-type {\n",
       "        vertical-align: middle;\n",
       "    }\n",
       "\n",
       "    .dataframe tbody tr th {\n",
       "        vertical-align: top;\n",
       "    }\n",
       "\n",
       "    .dataframe thead th {\n",
       "        text-align: right;\n",
       "    }\n",
       "</style>\n",
       "<table border=\"1\" class=\"dataframe\">\n",
       "  <thead>\n",
       "    <tr style=\"text-align: right;\">\n",
       "      <th></th>\n",
       "      <th>user</th>\n",
       "      <th>lang</th>\n",
       "      <th>favorite_count</th>\n",
       "      <th>retweet_count</th>\n",
       "      <th>Screen_name</th>\n",
       "      <th>Followers</th>\n",
       "      <th>Friends</th>\n",
       "      <th>Tweets</th>\n",
       "      <th>education</th>\n",
       "      <th>char_len</th>\n",
       "      <th>words_per_tweet</th>\n",
       "      <th>word_len</th>\n",
       "      <th>tweet_normalized</th>\n",
       "      <th>edu_class</th>\n",
       "      <th>bachelor</th>\n",
       "    </tr>\n",
       "  </thead>\n",
       "  <tbody>\n",
       "    <tr>\n",
       "      <th>0</th>\n",
       "      <td>krychtiukmd</td>\n",
       "      <td>en</td>\n",
       "      <td>0.0</td>\n",
       "      <td>5.0</td>\n",
       "      <td>krychtiukmd</td>\n",
       "      <td>5738.0</td>\n",
       "      <td>4059.0</td>\n",
       "      <td>4003.0</td>\n",
       "      <td>phd</td>\n",
       "      <td>139</td>\n",
       "      <td>14</td>\n",
       "      <td>9.000000</td>\n",
       "      <td>rt excellent result mitral valveinvalve procedure</td>\n",
       "      <td>3</td>\n",
       "      <td>0</td>\n",
       "    </tr>\n",
       "    <tr>\n",
       "      <th>1</th>\n",
       "      <td>krychtiukmd</td>\n",
       "      <td>en</td>\n",
       "      <td>8.0</td>\n",
       "      <td>2.0</td>\n",
       "      <td>krychtiukmd</td>\n",
       "      <td>5738.0</td>\n",
       "      <td>4059.0</td>\n",
       "      <td>4003.0</td>\n",
       "      <td>phd</td>\n",
       "      <td>139</td>\n",
       "      <td>21</td>\n",
       "      <td>5.523810</td>\n",
       "      <td>ecpr denmark check article #criticalcare alway...</td>\n",
       "      <td>3</td>\n",
       "      <td>0</td>\n",
       "    </tr>\n",
       "    <tr>\n",
       "      <th>2</th>\n",
       "      <td>krychtiukmd</td>\n",
       "      <td>en</td>\n",
       "      <td>78.0</td>\n",
       "      <td>18.0</td>\n",
       "      <td>krychtiukmd</td>\n",
       "      <td>5738.0</td>\n",
       "      <td>4059.0</td>\n",
       "      <td>4003.0</td>\n",
       "      <td>phd</td>\n",
       "      <td>126</td>\n",
       "      <td>13</td>\n",
       "      <td>8.538462</td>\n",
       "      <td>framingham heart study fantastic overview week...</td>\n",
       "      <td>3</td>\n",
       "      <td>0</td>\n",
       "    </tr>\n",
       "    <tr>\n",
       "      <th>3</th>\n",
       "      <td>krychtiukmd</td>\n",
       "      <td>en</td>\n",
       "      <td>0.0</td>\n",
       "      <td>11.0</td>\n",
       "      <td>krychtiukmd</td>\n",
       "      <td>5738.0</td>\n",
       "      <td>4059.0</td>\n",
       "      <td>4003.0</td>\n",
       "      <td>phd</td>\n",
       "      <td>140</td>\n",
       "      <td>20</td>\n",
       "      <td>6.000000</td>\n",
       "      <td>rt week #acutecvdays focus postresuscitation c...</td>\n",
       "      <td>3</td>\n",
       "      <td>0</td>\n",
       "    </tr>\n",
       "    <tr>\n",
       "      <th>4</th>\n",
       "      <td>krychtiukmd</td>\n",
       "      <td>en</td>\n",
       "      <td>0.0</td>\n",
       "      <td>5.0</td>\n",
       "      <td>krychtiukmd</td>\n",
       "      <td>5738.0</td>\n",
       "      <td>4059.0</td>\n",
       "      <td>4003.0</td>\n",
       "      <td>phd</td>\n",
       "      <td>140</td>\n",
       "      <td>18</td>\n",
       "      <td>6.722222</td>\n",
       "      <td>rt #ehjacvc paper week look major bleed amic p...</td>\n",
       "      <td>3</td>\n",
       "      <td>0</td>\n",
       "    </tr>\n",
       "  </tbody>\n",
       "</table>\n",
       "</div>"
      ],
      "text/plain": [
       "          user lang  favorite_count  retweet_count  Screen_name  Followers  \\\n",
       "0  krychtiukmd   en             0.0            5.0  krychtiukmd     5738.0   \n",
       "1  krychtiukmd   en             8.0            2.0  krychtiukmd     5738.0   \n",
       "2  krychtiukmd   en            78.0           18.0  krychtiukmd     5738.0   \n",
       "3  krychtiukmd   en             0.0           11.0  krychtiukmd     5738.0   \n",
       "4  krychtiukmd   en             0.0            5.0  krychtiukmd     5738.0   \n",
       "\n",
       "   Friends  Tweets education  char_len  words_per_tweet  word_len  \\\n",
       "0   4059.0  4003.0       phd       139               14  9.000000   \n",
       "1   4059.0  4003.0       phd       139               21  5.523810   \n",
       "2   4059.0  4003.0       phd       126               13  8.538462   \n",
       "3   4059.0  4003.0       phd       140               20  6.000000   \n",
       "4   4059.0  4003.0       phd       140               18  6.722222   \n",
       "\n",
       "                                    tweet_normalized  edu_class  bachelor  \n",
       "0  rt excellent result mitral valveinvalve procedure          3         0  \n",
       "1  ecpr denmark check article #criticalcare alway...          3         0  \n",
       "2  framingham heart study fantastic overview week...          3         0  \n",
       "3  rt week #acutecvdays focus postresuscitation c...          3         0  \n",
       "4  rt #ehjacvc paper week look major bleed amic p...          3         0  "
      ]
     },
     "execution_count": 55,
     "metadata": {},
     "output_type": "execute_result"
    }
   ],
   "source": [
    "#group data into bachelor vs non-bachelor\n",
    "tweet_data['bachelor'] = tweet_data.education.map({'hsg':0, 'bachelor':1, 'master':0, 'phd':0})\n",
    "tweet_data.head()"
   ]
  },
  {
   "cell_type": "code",
   "execution_count": 56,
   "metadata": {},
   "outputs": [],
   "source": [
    "#drop missing data\n",
    "tweet_data = tweet_data.dropna()"
   ]
  },
  {
   "cell_type": "code",
   "execution_count": 57,
   "metadata": {},
   "outputs": [],
   "source": [
    "numeric_features = ['favorite_count','retweet_count','Followers','Friends', 'Tweets']\n",
    "minmax_scaler = MinMaxScaler()"
   ]
  },
  {
   "cell_type": "code",
   "execution_count": 58,
   "metadata": {},
   "outputs": [],
   "source": [
    "# Set X and y\n",
    "X = tweet_data[['tweet_normalized','favorite_count','retweet_count','Followers','Friends', 'Tweets']]\n",
    "y = tweet_data['bachelor']"
   ]
  },
  {
   "cell_type": "code",
   "execution_count": 59,
   "metadata": {},
   "outputs": [],
   "source": [
    "# Instantiate CountVectorizer and TfidfVectorizer\n",
    "count_vect = CountVectorizer(min_df=1, ngram_range=(1, 2)) \n",
    "tfidf_vect = TfidfVectorizer(min_df=1, ngram_range=(1, 2))"
   ]
  },
  {
   "cell_type": "code",
   "execution_count": 60,
   "metadata": {},
   "outputs": [],
   "source": [
    "# construct the column transfomer\n",
    "count_column_transformer = ColumnTransformer(\n",
    "    [('count', count_vect, 'tweet_normalized'),('num', minmax_scaler,numeric_features)])\n",
    "\n",
    "tfidf_column_transformer = ColumnTransformer(\n",
    "    [('tfidf1', tfidf_vect, 'tweet_normalized'),('num', minmax_scaler,numeric_features)])"
   ]
  },
  {
   "cell_type": "code",
   "execution_count": 61,
   "metadata": {},
   "outputs": [],
   "source": [
    "# Apply CountVectorizer \n",
    "X_count = count_column_transformer.fit_transform(X)\n",
    "X_count = X_count.tocsc()\n",
    "\n",
    "# Apply TfidfVectorizer\n",
    "X_tfidf = tfidf_column_transformer.fit_transform(X)\n",
    "X_tfidf = X_tfidf.tocsc()"
   ]
  },
  {
   "cell_type": "code",
   "execution_count": 62,
   "metadata": {},
   "outputs": [],
   "source": [
    "Xtrain_count, Xtest_count, ytrain_count, ytest_count = train_test_split(X_count, y, random_state=17)\n",
    "Xtrain_tfidf, Xtest_tfidf, ytrain_tfidf, ytest_tfidf = train_test_split(X_tfidf, y, random_state=17)"
   ]
  },
  {
   "cell_type": "markdown",
   "metadata": {},
   "source": [
    "## Naive Bayes"
   ]
  },
  {
   "cell_type": "markdown",
   "metadata": {},
   "source": [
    "### Using countvectorizer token counts"
   ]
  },
  {
   "cell_type": "code",
   "execution_count": 64,
   "metadata": {},
   "outputs": [
    {
     "name": "stdout",
     "output_type": "stream",
     "text": [
      "Best Parameters: {'alpha': 1e-05}\n"
     ]
    }
   ],
   "source": [
    "# set the grid parameter\n",
    "param_grid = {'alpha': (1, 0.1, 0.01, 0.001, 0.0001, 0.00001)}\n",
    "# Instantiate multinomialNB()\n",
    "nb_words_count = MultinomialNB(fit_prior=True)\n",
    "# Train model\n",
    "nb_words_count_cv= GridSearchCV(estimator=nb_words_count, param_grid=param_grid, cv=5, n_jobs =4, scoring = 'roc_auc')\n",
    "nb_words_count_cv.fit(Xtrain_count,ytrain_count)\n",
    "print(\"Best Parameters: \" + str(nb_words_count_cv.best_params_))"
   ]
  },
  {
   "cell_type": "code",
   "execution_count": 69,
   "metadata": {},
   "outputs": [
    {
     "name": "stdout",
     "output_type": "stream",
     "text": [
      "\n",
      "               precision    recall  f1-score   support\n",
      "\n",
      "           0       0.83      0.68      0.75      7499\n",
      "           1       0.36      0.56      0.44      2383\n",
      "\n",
      "    accuracy                           0.65      9882\n",
      "   macro avg       0.59      0.62      0.59      9882\n",
      "weighted avg       0.72      0.65      0.67      9882\n",
      "\n",
      "\n",
      "Confusion Matrix:\n",
      " [[5087 2412]\n",
      " [1043 1340]]\n"
     ]
    }
   ],
   "source": [
    "# run multinomialNB with best hyperparameter\n",
    "nb_words_count = MultinomialNB(alpha=0.00001, fit_prior=True)\n",
    "nb_words_count.fit(Xtrain_count, ytrain_count)\n",
    "evaluate_model(Xtest_count, ytest_count, nb_words_count)"
   ]
  },
  {
   "cell_type": "markdown",
   "metadata": {},
   "source": [
    "### Using tfidfvectorizer token counts"
   ]
  },
  {
   "cell_type": "code",
   "execution_count": 70,
   "metadata": {},
   "outputs": [
    {
     "name": "stdout",
     "output_type": "stream",
     "text": [
      "Best Parameters: {'alpha': 1e-05}\n"
     ]
    }
   ],
   "source": [
    "# Instantiate multinomialNB() \n",
    "nb_words_tfidf = MultinomialNB(fit_prior=True)\n",
    "\n",
    "# Train model\n",
    "nb_words_tfidf_cv= GridSearchCV(estimator=nb_words_tfidf, param_grid=param_grid, cv=5, n_jobs =4, scoring = 'roc_auc')\n",
    "nb_words_tfidf_cv.fit(Xtrain_tfidf,ytrain_tfidf)\n",
    "print(\"Best Parameters: \" + str(nb_words_tfidf_cv.best_params_))"
   ]
  },
  {
   "cell_type": "code",
   "execution_count": 71,
   "metadata": {},
   "outputs": [
    {
     "name": "stdout",
     "output_type": "stream",
     "text": [
      "\n",
      "               precision    recall  f1-score   support\n",
      "\n",
      "           0       0.83      0.72      0.77      7499\n",
      "           1       0.37      0.53      0.44      2383\n",
      "\n",
      "    accuracy                           0.67      9882\n",
      "   macro avg       0.60      0.62      0.60      9882\n",
      "weighted avg       0.72      0.67      0.69      9882\n",
      "\n",
      "\n",
      "Confusion Matrix:\n",
      " [[5378 2121]\n",
      " [1130 1253]]\n"
     ]
    }
   ],
   "source": [
    "# run multinomialNB with best hyperparameter\n",
    "nb_words_tfidf = MultinomialNB(alpha=0.00001, fit_prior=True)\n",
    "nb_words_tfidf.fit(Xtrain_tfidf, ytrain_tfidf)\n",
    "evaluate_model(Xtest_tfidf, ytest_tfidf, nb_words_tfidf)"
   ]
  },
  {
   "cell_type": "markdown",
   "metadata": {},
   "source": [
    "## Logistic regression"
   ]
  },
  {
   "cell_type": "markdown",
   "metadata": {},
   "source": [
    "### Using countvectorizer token counts"
   ]
  },
  {
   "cell_type": "code",
   "execution_count": 72,
   "metadata": {},
   "outputs": [
    {
     "name": "stdout",
     "output_type": "stream",
     "text": [
      "Best Parameters: {'C': 1, 'penalty': 'l2', 'solver': 'liblinear'}\n"
     ]
    }
   ],
   "source": [
    "#set the hyperparameter\n",
    "param_grid = {'penalty': ['l1', 'l2'], 'C': [0.0001, 0.001,0.01,0.1,1,5,10,100], 'solver': ['liblinear']}\n",
    "# Instantiate logistic regression\n",
    "logreg_count = LogisticRegression()\n",
    "logreg_count_cv= GridSearchCV(estimator=logreg_count, param_grid=param_grid, cv=5, n_jobs =4, scoring = 'roc_auc')\n",
    "logreg_count_cv.fit(Xtrain_count,ytrain_count)\n",
    "print(\"Best Parameters: \" + str(logreg_count_cv.best_params_))"
   ]
  },
  {
   "cell_type": "code",
   "execution_count": 73,
   "metadata": {},
   "outputs": [
    {
     "name": "stdout",
     "output_type": "stream",
     "text": [
      "\n",
      "               precision    recall  f1-score   support\n",
      "\n",
      "           0       0.79      0.97      0.87      7499\n",
      "           1       0.62      0.18      0.27      2383\n",
      "\n",
      "    accuracy                           0.78      9882\n",
      "   macro avg       0.70      0.57      0.57      9882\n",
      "weighted avg       0.75      0.78      0.72      9882\n",
      "\n",
      "\n",
      "Confusion Matrix:\n",
      " [[7242  257]\n",
      " [1963  420]]\n"
     ]
    }
   ],
   "source": [
    "# Instantiate and fit training data to Logistic Regression Model (CountVec)\n",
    "logreg_count = LogisticRegression(penalty = 'l2', C=1, solver='liblinear')\n",
    "logreg_count.fit(Xtrain_count, ytrain_count)\n",
    "evaluate_model(Xtest_count, ytest_count, logreg_count)"
   ]
  },
  {
   "cell_type": "markdown",
   "metadata": {},
   "source": [
    "### Using tfidfvectorizer token counts"
   ]
  },
  {
   "cell_type": "code",
   "execution_count": 74,
   "metadata": {},
   "outputs": [
    {
     "name": "stdout",
     "output_type": "stream",
     "text": [
      "Best Parameters: {'C': 5, 'penalty': 'l2', 'solver': 'liblinear'}\n"
     ]
    }
   ],
   "source": [
    "# Instantiate logistic regression\n",
    "logreg_tfidf = LogisticRegression()\n",
    "logreg_tfidf_cv= GridSearchCV(estimator=logreg_tfidf, param_grid=param_grid, cv=5, n_jobs =4, scoring = 'roc_auc')\n",
    "logreg_tfidf_cv.fit(Xtrain_tfidf,ytrain_tfidf)\n",
    "print(\"Best Parameters: \" + str(logreg_tfidf_cv.best_params_))"
   ]
  },
  {
   "cell_type": "code",
   "execution_count": 75,
   "metadata": {},
   "outputs": [
    {
     "name": "stdout",
     "output_type": "stream",
     "text": [
      "\n",
      "               precision    recall  f1-score   support\n",
      "\n",
      "           0       0.78      0.98      0.87      7499\n",
      "           1       0.69      0.13      0.22      2383\n",
      "\n",
      "    accuracy                           0.78      9882\n",
      "   macro avg       0.73      0.56      0.55      9882\n",
      "weighted avg       0.76      0.78      0.71      9882\n",
      "\n",
      "\n",
      "Confusion Matrix:\n",
      " [[7355  144]\n",
      " [2064  319]]\n"
     ]
    }
   ],
   "source": [
    "# Instantiate and fit training data to Logistic Regression Model (TFIDF Vec)\n",
    "logreg_tfidf = LogisticRegression(penalty = 'l2', C=5, solver='liblinear')\n",
    "logreg_tfidf.fit(Xtrain_tfidf, ytrain_tfidf)\n",
    "evaluate_model(Xtest_tfidf, ytest_tfidf, logreg_tfidf)"
   ]
  },
  {
   "cell_type": "markdown",
   "metadata": {},
   "source": [
    "## Random forest "
   ]
  },
  {
   "cell_type": "markdown",
   "metadata": {},
   "source": [
    "### Using countvectorizer token counts"
   ]
  },
  {
   "cell_type": "code",
   "execution_count": 76,
   "metadata": {},
   "outputs": [
    {
     "name": "stdout",
     "output_type": "stream",
     "text": [
      "Best Parameters: {'criterion': 'gini', 'n_estimators': 100}\n"
     ]
    }
   ],
   "source": [
    "param_grid = {\n",
    "    'criterion': ['gini', 'entropy'],\n",
    "     'n_estimators': [10, 50, 100, 200]}\n",
    "\n",
    "rf_clf_count = RandomForestClassifier(class_weight='balanced')\n",
    "\n",
    "rf_count_cv = GridSearchCV(estimator=rf_clf_count, param_grid=param_grid, cv=5, n_jobs =4, scoring = 'accuracy')\n",
    "rf_count_cv.fit(Xtrain_count,ytrain_count)\n",
    "print(\"Best Parameters: \" + str(rf_count_cv.best_params_))"
   ]
  },
  {
   "cell_type": "code",
   "execution_count": 77,
   "metadata": {},
   "outputs": [
    {
     "name": "stdout",
     "output_type": "stream",
     "text": [
      "\n",
      "               precision    recall  f1-score   support\n",
      "\n",
      "           0       0.79      0.99      0.88      7499\n",
      "           1       0.88      0.19      0.32      2383\n",
      "\n",
      "    accuracy                           0.80      9882\n",
      "   macro avg       0.83      0.59      0.60      9882\n",
      "weighted avg       0.81      0.80      0.75      9882\n",
      "\n",
      "\n",
      "Confusion Matrix:\n",
      " [[7433   66]\n",
      " [1921  462]]\n"
     ]
    }
   ],
   "source": [
    "# Instantiate and fit training data to Random Forest Model (CountVec)\n",
    "forest_clf_count = RandomForestClassifier(class_weight='balanced', criterion = 'gini',\n",
    "                                          n_estimators = 100).fit(Xtrain_count, ytrain_count)\n",
    "evaluate_model(Xtest_count, ytest_count, forest_clf_count)"
   ]
  },
  {
   "cell_type": "markdown",
   "metadata": {},
   "source": [
    "### Using tfidfvectorizer token counts"
   ]
  },
  {
   "cell_type": "code",
   "execution_count": 78,
   "metadata": {},
   "outputs": [
    {
     "name": "stdout",
     "output_type": "stream",
     "text": [
      "Best Parameters: {'criterion': 'gini', 'n_estimators': 100}\n"
     ]
    }
   ],
   "source": [
    "rf_clf_tfidf = RandomForestClassifier(class_weight='balanced')\n",
    "\n",
    "rf_tfidf_cv = GridSearchCV(estimator=rf_clf_tfidf, param_grid=param_grid, cv=5, n_jobs =4, scoring = 'accuracy')\n",
    "rf_tfidf_cv.fit(Xtrain_tfidf,ytrain_tfidf)\n",
    "print(\"Best Parameters: \" + str(rf_tfidf_cv.best_params_))"
   ]
  },
  {
   "cell_type": "code",
   "execution_count": 79,
   "metadata": {},
   "outputs": [
    {
     "name": "stdout",
     "output_type": "stream",
     "text": [
      "\n",
      "               precision    recall  f1-score   support\n",
      "\n",
      "           0       0.79      0.99      0.88      7499\n",
      "           1       0.88      0.17      0.28      2383\n",
      "\n",
      "    accuracy                           0.79      9882\n",
      "   macro avg       0.84      0.58      0.58      9882\n",
      "weighted avg       0.81      0.79      0.74      9882\n",
      "\n",
      "\n",
      "Confusion Matrix:\n",
      " [[7445   54]\n",
      " [1984  399]]\n"
     ]
    }
   ],
   "source": [
    "# Instantiate and fit training data to Random Forest Model (tfidfVec)\n",
    "forest_clf_tfidf = RandomForestClassifier(class_weight='balanced', criterion = 'gini',\n",
    "                                          n_estimators = 100).fit(Xtrain_tfidf, ytrain_tfidf)\n",
    "evaluate_model(Xtest_tfidf, ytest_tfidf, forest_clf_tfidf)"
   ]
  },
  {
   "cell_type": "markdown",
   "metadata": {},
   "source": [
    "## Linear SVC"
   ]
  },
  {
   "cell_type": "markdown",
   "metadata": {},
   "source": [
    "### Using countvectorizer token counts"
   ]
  },
  {
   "cell_type": "code",
   "execution_count": 80,
   "metadata": {},
   "outputs": [
    {
     "name": "stdout",
     "output_type": "stream",
     "text": [
      "Best Parameters: {'C': 0.1}\n"
     ]
    }
   ],
   "source": [
    "param_grid = {'C': [0.01, 0.1, 1.0, 5.0]} \n",
    "svc_count = LinearSVC()\n",
    "\n",
    "svc_count_cv = GridSearchCV(estimator=svc_count, param_grid=param_grid, cv=5, n_jobs =4, scoring = 'accuracy')\n",
    "svc_count_cv.fit(Xtrain_count,ytrain_count)\n",
    "print(\"Best Parameters: \" + str(svc_count_cv.best_params_))"
   ]
  },
  {
   "cell_type": "code",
   "execution_count": 81,
   "metadata": {},
   "outputs": [
    {
     "name": "stdout",
     "output_type": "stream",
     "text": [
      "\n",
      "               precision    recall  f1-score   support\n",
      "\n",
      "           0       0.79      0.96      0.87      7499\n",
      "           1       0.62      0.19      0.29      2383\n",
      "\n",
      "    accuracy                           0.78      9882\n",
      "   macro avg       0.70      0.58      0.58      9882\n",
      "weighted avg       0.75      0.78      0.73      9882\n",
      "\n",
      "\n",
      "Confusion Matrix:\n",
      " [[7223  276]\n",
      " [1934  449]]\n"
     ]
    }
   ],
   "source": [
    "# Instantiate and fit training data to Random Forest Model (tfidfVec)\n",
    "svc_clf_count = LinearSVC(C=0.1).fit(Xtrain_count, ytrain_count)\n",
    "evaluate_model(Xtest_count, ytest_count, svc_clf_count)"
   ]
  },
  {
   "cell_type": "markdown",
   "metadata": {},
   "source": [
    "### Using tfidfvectorizer token counts"
   ]
  },
  {
   "cell_type": "code",
   "execution_count": 82,
   "metadata": {},
   "outputs": [
    {
     "name": "stdout",
     "output_type": "stream",
     "text": [
      "Best Parameters: {'C': 1.0}\n"
     ]
    }
   ],
   "source": [
    "svc_tfidf = LinearSVC()\n",
    "svc_tfidf_cv = GridSearchCV(estimator=svc_tfidf, param_grid=param_grid, cv=5, n_jobs =4, scoring = 'accuracy')\n",
    "svc_tfidf_cv.fit(Xtrain_tfidf,ytrain_tfidf)\n",
    "print(\"Best Parameters: \" + str(svc_tfidf_cv.best_params_))"
   ]
  },
  {
   "cell_type": "code",
   "execution_count": 83,
   "metadata": {},
   "outputs": [
    {
     "name": "stdout",
     "output_type": "stream",
     "text": [
      "\n",
      "               precision    recall  f1-score   support\n",
      "\n",
      "           0       0.79      0.97      0.87      7499\n",
      "           1       0.65      0.17      0.27      2383\n",
      "\n",
      "    accuracy                           0.78      9882\n",
      "   macro avg       0.72      0.57      0.57      9882\n",
      "weighted avg       0.75      0.78      0.73      9882\n",
      "\n",
      "\n",
      "Confusion Matrix:\n",
      " [[7280  219]\n",
      " [1973  410]]\n"
     ]
    }
   ],
   "source": [
    "# Instantiate and fit training data to Random Forest Model (tfidfVec)\n",
    "svc_clf_tfidf = LinearSVC(C=1).fit(Xtrain_tfidf, ytrain_tfidf)\n",
    "evaluate_model(Xtest_tfidf, ytest_tfidf, svc_clf_tfidf)"
   ]
  },
  {
   "cell_type": "markdown",
   "metadata": {},
   "source": [
    "Random Forest model with CountVectorizer performed the best among all the models. However, the recall of the model is very low (0.19). This could be due to the fact that the data is unbalanced with the number of tweets in class balance is one third compared to that of other class. Therefore, in the next step, I will do thresholding to identify the best decision threshold at which the model perform the best."
   ]
  },
  {
   "cell_type": "markdown",
   "metadata": {},
   "source": [
    "## Thresholding"
   ]
  },
  {
   "cell_type": "code",
   "execution_count": 84,
   "metadata": {},
   "outputs": [],
   "source": [
    "def adjust_pred_prob(y_pred_prob, new_threshold):\n",
    "    \"\"\"Adjust predicted probabilities to match new threshold value\"\"\"\n",
    "    \n",
    "    return [1 if y >= new_threshold else 0 for y in y_pred_prob]"
   ]
  },
  {
   "cell_type": "code",
   "execution_count": 94,
   "metadata": {},
   "outputs": [
    {
     "name": "stdout",
     "output_type": "stream",
     "text": [
      "0.5900643316654753\n",
      "optimum threshold 0.231\n"
     ]
    }
   ],
   "source": [
    "from sklearn.metrics import fbeta_score\n",
    "\n",
    "# Calculate F1 Score Curve\n",
    "y_pred_prob=forest_clf_count.predict_proba(Xtest_count)[:,1]\n",
    "f_beta = []\n",
    "thresholds = np.arange(0, 1, 0.001)\n",
    "for t in thresholds:\n",
    "    adjusted_y_pred = adjust_pred_prob(y_pred_prob, new_threshold=t)\n",
    "    f = fbeta_score(ytest_count, adjusted_y_pred, beta=1)\n",
    "    f_beta.append(f)\n",
    "\n",
    "max_score = max(f_beta)\n",
    "max_index = f_beta.index(max_score)\n",
    "print(max_score)\n",
    "print('optimum threshold', thresholds[max_index])"
   ]
  },
  {
   "cell_type": "code",
   "execution_count": 95,
   "metadata": {},
   "outputs": [
    {
     "name": "stdout",
     "output_type": "stream",
     "text": [
      "              precision    recall  f1-score   support\n",
      "\n",
      "           0       0.89      0.79      0.84      7499\n",
      "           1       0.51      0.69      0.59      2383\n",
      "\n",
      "    accuracy                           0.77      9882\n",
      "   macro avg       0.70      0.74      0.71      9882\n",
      "weighted avg       0.80      0.77      0.78      9882\n",
      "\n",
      "[[5937 1562]\n",
      " [ 732 1651]]\n"
     ]
    }
   ],
   "source": [
    "from sklearn.metrics import plot_confusion_matrix\n",
    "from sklearn.metrics import confusion_matrix\n",
    "#classification report\n",
    "y_pred = (forest_clf_count.predict_proba(Xtest_count)[:,1] >= 0.231).astype('int')\n",
    "print(classification_report(ytest_count, y_pred))\n",
    "print(confusion_matrix(ytest_count, y_pred))"
   ]
  },
  {
   "cell_type": "markdown",
   "metadata": {},
   "source": [
    "### Plot demonstrating F1 score, precision and recall at different thresholds"
   ]
  },
  {
   "cell_type": "code",
   "execution_count": 96,
   "metadata": {},
   "outputs": [],
   "source": [
    "pred_prob_rf = forest_clf_count.predict_proba(Xtest_count)[:,1]"
   ]
  },
  {
   "cell_type": "code",
   "execution_count": 97,
   "metadata": {},
   "outputs": [],
   "source": [
    "# Calculate Precision and Recall Curve\n",
    "precision, recall, thresholds = precision_recall_curve(ytest_count, y_pred_prob)\n",
    "thresholds = np.append(thresholds, 1)"
   ]
  },
  {
   "cell_type": "code",
   "execution_count": 98,
   "metadata": {},
   "outputs": [],
   "source": [
    "# Calculate F1 Score Curve\n",
    "f1_points = []\n",
    "\n",
    "for t in thresholds:\n",
    "        adjusted_y_pred = adjust_pred_prob(y_pred_prob, new_threshold=t)\n",
    "        new_f1 = fbeta_score(ytest_count, adjusted_y_pred, beta = 1)\n",
    "        f1_points.append(new_f1)"
   ]
  },
  {
   "cell_type": "code",
   "execution_count": 99,
   "metadata": {},
   "outputs": [
    {
     "data": {
      "image/png": "[encoded data removed]",
      "text/plain": [
       "<Figure size 720x360 with 1 Axes>"
      ]
     },
     "metadata": {
      "needs_background": "light"
     },
     "output_type": "display_data"
    }
   ],
   "source": [
    "import matplotlib.pyplot as plt\n",
    "\n",
    "#plot precision, recall and F1 score for various threshold\n",
    "plt.figure(figsize=(10,5))\n",
    "plt.plot(thresholds, precision, color='blue')\n",
    "plt.plot(thresholds, recall, color='red')\n",
    "plt.plot(thresholds, f1_points, color='green')\n",
    "plt.title('Precision Recall Curve - Logistic regression')\n",
    "plt.legend(('Precision', 'Recall', 'F1-Score'))\n",
    "plt.xlabel('Threshold')\n",
    "plt.ylabel('Proportion')\n",
    "plt.axvline(x=.231, color='black', linestyle='--')\n",
    "plt.text(.21,.25,'High Recall Threshold',rotation=90)\n",
    "plt.axvline(x=.50, color='black', linestyle='--')\n",
    "plt.text(.475,.25,'Default Threshold',rotation=90)\n",
    "plt.show()"
   ]
  },
  {
   "cell_type": "code",
   "execution_count": 100,
   "metadata": {},
   "outputs": [],
   "source": [
    "# save the model to disk\n",
    "filename = '../model/bachelor_vs_other_model.sav'\n",
    "pickle.dump(forest_clf_count, open(filename, 'wb'))"
   ]
  },
  {
   "cell_type": "code",
   "execution_count": null,
   "metadata": {},
   "outputs": [],
   "source": []
  }
 ],
 "metadata": {
  "kernelspec": {
   "display_name": "Python 3",
   "language": "python",
   "name": "python3"
  },
  "language_info": {
   "codemirror_mode": {
    "name": "ipython",
    "version": 3
   },
   "file_extension": ".py",
   "mimetype": "text/x-python",
   "name": "python",
   "nbconvert_exporter": "python",
   "pygments_lexer": "ipython3",
   "version": "3.8.5"
  },
  "toc": {
   "base_numbering": 1,
   "nav_menu": {},
   "number_sections": false,
   "sideBar": true,
   "skip_h1_title": false,
   "title_cell": "Table of Contents",
   "title_sidebar": "Contents",
   "toc_cell": false,
   "toc_position": {
    "height": "calc(100% - 180px)",
    "left": "10px",
    "top": "150px",
    "width": "295.176px"
   },
   "toc_section_display": true,
   "toc_window_display": true
  }
 },
 "nbformat": 4,
 "nbformat_minor": 4
}
